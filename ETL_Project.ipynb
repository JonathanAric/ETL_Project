{
 "cells": [
  {
   "cell_type": "code",
   "execution_count": 1,
   "metadata": {},
   "outputs": [],
   "source": [
    "import matplotlib.pyplot as plt\n",
    "import pandas as pd\n",
    "import numpy as np\n",
    "import requests\n",
    "import pymongo\n",
    "from pymongo import MongoClient\n",
    "import csv\n",
    "import json"
   ]
  },
  {
   "cell_type": "code",
   "execution_count": 2,
   "metadata": {},
   "outputs": [
    {
     "data": {
      "text/html": [
       "<div>\n",
       "<style scoped>\n",
       "    .dataframe tbody tr th:only-of-type {\n",
       "        vertical-align: middle;\n",
       "    }\n",
       "\n",
       "    .dataframe tbody tr th {\n",
       "        vertical-align: top;\n",
       "    }\n",
       "\n",
       "    .dataframe thead th {\n",
       "        text-align: right;\n",
       "    }\n",
       "</style>\n",
       "<table border=\"1\" class=\"dataframe\">\n",
       "  <thead>\n",
       "    <tr style=\"text-align: right;\">\n",
       "      <th></th>\n",
       "      <th>Year</th>\n",
       "      <th>Athlete</th>\n",
       "      <th>Country</th>\n",
       "      <th>Time</th>\n",
       "      <th>Marathon</th>\n",
       "    </tr>\n",
       "  </thead>\n",
       "  <tbody>\n",
       "    <tr>\n",
       "      <th>0</th>\n",
       "      <td>2018</td>\n",
       "      <td>Yuki Kawauchi</td>\n",
       "      <td>Japan</td>\n",
       "      <td>02:15:58</td>\n",
       "      <td>Boston</td>\n",
       "    </tr>\n",
       "    <tr>\n",
       "      <th>1</th>\n",
       "      <td>2017</td>\n",
       "      <td>Geoffrey Kirui</td>\n",
       "      <td>Kenya</td>\n",
       "      <td>02:09:37</td>\n",
       "      <td>Boston</td>\n",
       "    </tr>\n",
       "    <tr>\n",
       "      <th>2</th>\n",
       "      <td>2016</td>\n",
       "      <td>Berhanu Hayle</td>\n",
       "      <td>Ethiopia</td>\n",
       "      <td>02:12:45</td>\n",
       "      <td>Boston</td>\n",
       "    </tr>\n",
       "    <tr>\n",
       "      <th>3</th>\n",
       "      <td>2015</td>\n",
       "      <td>Desisa Benti</td>\n",
       "      <td>Ethiopia</td>\n",
       "      <td>02:09:17</td>\n",
       "      <td>Boston</td>\n",
       "    </tr>\n",
       "    <tr>\n",
       "      <th>4</th>\n",
       "      <td>2014</td>\n",
       "      <td>Meb Keflezighi</td>\n",
       "      <td>United States</td>\n",
       "      <td>02:08:37</td>\n",
       "      <td>Boston</td>\n",
       "    </tr>\n",
       "  </tbody>\n",
       "</table>\n",
       "</div>"
      ],
      "text/plain": [
       "   Year         Athlete        Country      Time Marathon\n",
       "0  2018   Yuki Kawauchi          Japan  02:15:58   Boston\n",
       "1  2017  Geoffrey Kirui          Kenya  02:09:37   Boston\n",
       "2  2016   Berhanu Hayle       Ethiopia  02:12:45   Boston\n",
       "3  2015    Desisa Benti       Ethiopia  02:09:17   Boston\n",
       "4  2014  Meb Keflezighi  United States  02:08:37   Boston"
      ]
     },
     "execution_count": 2,
     "metadata": {},
     "output_type": "execute_result"
    }
   ],
   "source": [
    "# load marathon data files\n",
    "berlin_men_load = 'Male_Elite_Berlin.csv'\n",
    "boston_men_load = 'Male_Elite_Boston.csv'\n",
    "chicago_men_load = 'Male_Elite_Chicago.csv'\n",
    "london_men_load = 'Male_Elite_London.csv'\n",
    "new_york_men_load = 'Male_Elite_New_York.csv'\n",
    "tokyo_men_load = 'Male_Elite_Tokyo.csv'\n",
    "\n",
    "# read files\n",
    "berlin_men = pd.read_csv(berlin_men_load, encoding='unicode_escape')\n",
    "berlin_men = berlin_men.assign(Marathon='Berlin')\n",
    "\n",
    "boston_men = pd.read_csv(boston_men_load)\n",
    "boston_men = boston_men.assign(Marathon='Boston')\n",
    "boston_men = boston_men[['Year','Athlete','Country/State or Province','Time','Marathon']]\n",
    "boston_men = boston_men.rename(columns={'Country/State or Province':'Country'})\n",
    "boston_men_sorted = boston_men.sort_values('Year', ascending=False)\n",
    "\n",
    "chicago_men = pd.read_csv(chicago_men_load, encoding='unicode_escape')\n",
    "chicago_men = chicago_men.assign(Marathon='Chicago')\n",
    "chicago_men_sorted = chicago_men.sort_values('Year', ascending=False)\n",
    "\n",
    "london_men = pd.read_csv(london_men_load, encoding='unicode_escape')\n",
    "london_men = london_men.assign(Marathon='London')\n",
    "london_men = london_men[['Year','Athlete', 'Nationality','Time(h:m:s)','Marathon']]\n",
    "london_men = london_men.rename(columns={'Nationality':'Country','Time(h:m:s)':'Time'})\n",
    "london_men_sorted = london_men.sort_values('Year', ascending=False)\n",
    "\n",
    "new_york_men = pd.read_csv(new_york_men_load, encoding='unicode_escape')\n",
    "new_york_men = new_york_men.assign(Marathon='New York')\n",
    "new_york_men = new_york_men[['Year','Winner','Country','Time','Marathon']]\n",
    "new_york_men = new_york_men.rename(columns={'Winner':'Athlete'})\n",
    "new_york_men_sorted = new_york_men.sort_values('Year', ascending=False)\n",
    "\n",
    "tokyo_men = pd.read_csv(tokyo_men_load, encoding='unicode_escape')\n",
    "tokyo_men = tokyo_men.assign(Marathon='Tokyo')\n",
    "\n",
    "# merge files to single data frame\n",
    "mmdm = pd.concat([boston_men_sorted,new_york_men_sorted,chicago_men_sorted,berlin_men,london_men_sorted,tokyo_men])\n",
    "mmdm = mmdm.reset_index()\n",
    "mmdm = mmdm.drop(columns=['index'])\n",
    "\n",
    "\n",
    "# export to CSV\n",
    "mmdm.to_csv('major_marathon_men.csv')\n",
    "mmdm.head()"
   ]
  },
  {
   "cell_type": "code",
   "execution_count": 6,
   "metadata": {},
   "outputs": [],
   "source": [
    "marathon_list = []\n",
    "headers = [\"Year\", \"Athlete\", \"Country\", \"Time\", \"Marathon\"]\n",
    "\n",
    "with open('major_marathon_men.csv') as f:\n",
    "    reader = csv.reader(f)\n",
    "    reader.__next__()\n",
    "    for row in reader:\n",
    "        marathon_list.append(dict(zip(headers,row[1:])))"
   ]
  },
  {
   "cell_type": "code",
   "execution_count": 7,
   "metadata": {
    "scrolled": true
   },
   "outputs": [
    {
     "data": {
      "text/plain": [
       "<pymongo.results.InsertManyResult at 0x1161f8a88>"
      ]
     },
     "execution_count": 7,
     "metadata": {},
     "output_type": "execute_result"
    }
   ],
   "source": [
    "conn = 'mongodb://localhost:27017'\n",
    "client = pymongo.MongoClient(conn)\n",
    "\n",
    "db = client.ETL_Project\n",
    "collection = db.ETL_Project\n",
    "\n",
    "collection.insert_many(marathon_list)"
   ]
  },
  {
   "cell_type": "code",
   "execution_count": null,
   "metadata": {},
   "outputs": [],
   "source": []
  }
 ],
 "metadata": {
  "kernelspec": {
   "display_name": "Python 3",
   "language": "python",
   "name": "python3"
  },
  "language_info": {
   "codemirror_mode": {
    "name": "ipython",
    "version": 3
   },
   "file_extension": ".py",
   "mimetype": "text/x-python",
   "name": "python",
   "nbconvert_exporter": "python",
   "pygments_lexer": "ipython3",
   "version": "3.7.3"
  }
 },
 "nbformat": 4,
 "nbformat_minor": 2
}
